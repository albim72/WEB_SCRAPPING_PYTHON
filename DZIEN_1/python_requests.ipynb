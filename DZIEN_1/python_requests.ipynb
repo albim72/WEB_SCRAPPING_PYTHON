{
 "cells":[
  {
   "cell_type":"code",
   "source":[
    "import requests"
   ],
   "execution_count":1,
   "outputs":[],
   "metadata":{
    "datalore":{
     "node_id":"vyOFxzpVgCTil6i4C8UZM4",
     "type":"CODE",
     "hide_input_from_viewers":true,
     "hide_output_from_viewers":true
    }
   }
  },
  {
   "cell_type":"code",
   "source":[
    "url = \"https:\/\/httpbin.org\/html\"\n",
    "response = requests.get(url)\n",
    "\n",
    "print(f\"status: {response.status_code}\")\n",
    "print(f'nagłówki odpowiedzi: {response.headers[\"Content-Type\"]}')\n",
    "print(f\"fragment HTML:\\n{response.text[:300]}\")"
   ],
   "execution_count":2,
   "outputs":[
    {
     "name":"stdout",
     "text":[
      "status: 200\n",
      "nagłówki odpowiedzi: text\/html; charset=utf-8\n",
      "fragment HTML:\n",
      "<!DOCTYPE html>\n",
      "<html>\n",
      "  <head>\n",
      "  <\/head>\n",
      "  <body>\n",
      "      <h1>Herman Melville - Moby-Dick<\/h1>\n",
      "\n",
      "      <div>\n",
      "        <p>\n",
      "          Availing himself of the mild, summer-cool weather that now reigned in these latitudes, and in preparation for the peculiarly active pursuits shortly to be anticipated, Per\n"
     ],
     "output_type":"stream"
    }
   ],
   "metadata":{
    "datalore":{
     "node_id":"6cB8Omnf7btIdya2PiTkGN",
     "type":"CODE",
     "hide_input_from_viewers":true,
     "hide_output_from_viewers":true
    }
   }
  },
  {
   "cell_type":"code",
   "source":[
    "#pobieranie danych w formacie JSON i wyciąganie wybranych pól\n",
    "url = \"https:\/\/jsonplaceholder.typicode.com\/todos\/1\"\n",
    "\n",
    "response =requests.get(url)\n",
    "data = response.json()\n",
    "\n",
    "print(f'ID: {data[\"id\"]}')\n",
    "print(f'Tytuł: {data[\"title\"]}')\n",
    "print(f'Czy ukończone: {data[\"completed\"]}')"
   ],
   "execution_count":3,
   "outputs":[
    {
     "name":"stdout",
     "text":[
      "ID: 1\n",
      "Tytuł: delectus aut autem\n",
      "Czy ukończone: False\n"
     ],
     "output_type":"stream"
    }
   ],
   "metadata":{
    "datalore":{
     "node_id":"uCGbLDuXhenQijMKmIGrAh",
     "type":"CODE",
     "hide_input_from_viewers":true,
     "hide_output_from_viewers":true
    }
   }
  },
  {
   "cell_type":"code",
   "source":[
    "#wysyłka danych metodą POST i sprawdzenie odpoiwedzi\n",
    "url = \"https:\/\/httpbin.org\/post\"\n",
    "payload = {\"user\":\"Marcin\",\"message\":\"Hello from Python Training!\"}\n",
    "\n",
    "reponse = requests.post(url,data=payload)\n",
    "\n",
    "print(f\"kod: {response.status_code}\")\n",
    "print(f\"odpwowiedź JSON:\\n{response.json()}\")"
   ],
   "execution_count":4,
   "outputs":[
    {
     "name":"stdout",
     "text":[
      "kod: 200\n",
      "odpwowiedź JSON:\n",
      "{'userId': 1, 'id': 1, 'title': 'delectus aut autem', 'completed': False}\n"
     ],
     "output_type":"stream"
    }
   ],
   "metadata":{
    "datalore":{
     "node_id":"clG0nyESENxEby0PsMSYiB",
     "type":"CODE",
     "hide_input_from_viewers":true,
     "hide_output_from_viewers":true
    }
   }
  },
  {
   "cell_type":"code",
   "source":[
    "#pobieranie plików\n",
    "#PNG\n",
    "url = \"https:\/\/httpbin.org\/image\/png\"\n",
    "response = requests.get(url)\n",
    "\n",
    "with open(\"obrazek.png\",\"wb\") as f:\n",
    "    f.write(response.content)\n",
    "\n",
    "print(\"plik zapisany jako png\")                                                                                                                                                                    "
   ],
   "execution_count":5,
   "outputs":[
    {
     "name":"stdout",
     "text":[
      "plik zapisany jako png\n"
     ],
     "output_type":"stream"
    }
   ],
   "metadata":{
    "datalore":{
     "node_id":"LFn59RHNVpGgja89AT8wdZ",
     "type":"CODE",
     "hide_input_from_viewers":true,
     "hide_output_from_viewers":true
    }
   }
  }
 ],
 "metadata":{
  "kernelspec":{
   "display_name":"Python",
   "language":"python",
   "name":"python"
  },
  "datalore":{
   "computation_mode":"JUPYTER",
   "package_manager":"pip",
   "base_environment":"default_3_11",
   "packages":[],
   "report_row_ids":[],
   "report_tabs":[],
   "version":4
  }
 },
 "nbformat":4,
 "nbformat_minor":4
}