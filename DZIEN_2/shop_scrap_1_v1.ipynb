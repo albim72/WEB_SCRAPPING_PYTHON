{
 "cells":[
  {
   "cell_type":"code",
   "source":[
    "from bs4 import BeautifulSoup\n",
    "\n",
    "html = \"\"\"\n",
    "<div id=\"main\">\n",
    "  <h1>Sklep<\/h1>\n",
    "  <ul class=\"products\">\n",
    "    <li class=\"product\" data-sku=\"A1\">\n",
    "      <a class=\"name\" href=\"\/p\/a1\">Kubek<\/a>\n",
    "      <span class=\"price\">£9.99<\/span>\n",
    "    <\/li>\n",
    "    <li class=\"product featured\" data-sku=\"B2\">\n",
    "      <a class=\"name\" href=\"\/p\/b2\">Notes<\/a>\n",
    "      <span class=\"price promo\">£4.50<\/span>\n",
    "    <\/li>\n",
    "    <li class=\"product\" data-sku=\"C3\">\n",
    "      <a class=\"name\" href=\"\/p\/c3\">Długopis<\/a>\n",
    "      <span class=\"price\">£2.49<\/span>\n",
    "    <\/li>\n",
    "    <li class=\"featured\" data-sku=\"D4\">\n",
    "      <a class=\"name\" href=\"\/p\/d4\">Przygotowanie oprawy<\/a>\n",
    "      <span class=\"price\">£8.99<\/span>\n",
    "    <\/li>\n",
    "  <\/ul>\n",
    "  <p class=\"footer\">Kontakt: <a href=\"\/contact\">napisz<\/a><\/p>\n",
    "<\/div>\n",
    "\"\"\"\n",
    "soup = BeautifulSoup(html, \"html.parser\")"
   ],
   "execution_count":13,
   "outputs":[],
   "metadata":{
    "datalore":{
     "node_id":"H9WqoMoJm64ZJ5I8pHAVhc",
     "type":"CODE",
     "hide_input_from_viewers":true,
     "hide_output_from_viewers":true
    }
   }
  },
  {
   "cell_type":"code",
   "source":[
    "#mapowanie  DOM\n",
    "soup.select_one(\"#main\").name #mapowanie po id"
   ],
   "execution_count":14,
   "outputs":[
    {
     "data":{
      "text\/plain":[
       "'div'"
      ]
     },
     "metadata":{},
     "output_type":"display_data"
    }
   ],
   "metadata":{
    "datalore":{
     "node_id":"6VYJSFzGauP2rbnncw9XLA",
     "type":"CODE",
     "hide_input_from_viewers":true,
     "hide_output_from_viewers":true
    }
   }
  },
  {
   "cell_type":"code",
   "source":[
    "soup.find(\"h1\").get_text(strip=True) #mapowanie po tagu h1"
   ],
   "execution_count":15,
   "outputs":[
    {
     "data":{
      "text\/plain":[
       "'Sklep'"
      ]
     },
     "metadata":{},
     "output_type":"display_data"
    }
   ],
   "metadata":{
    "datalore":{
     "node_id":"7oApYREqQ0Qrci1dxW0AMT",
     "type":"CODE",
     "hide_input_from_viewers":true,
     "hide_output_from_viewers":true
    }
   }
  },
  {
   "cell_type":"code",
   "source":[
    "#mapowanie po klasie css i po klasie (API bs4)\n",
    "#CSS\n",
    "soup.select(\"li.product\")"
   ],
   "execution_count":16,
   "outputs":[
    {
     "data":{
      "text\/plain":[
       "[<li class=\"product\" data-sku=\"A1\">\n",
       " <a class=\"name\" href=\"\/p\/a1\">Kubek<\/a>\n",
       " <span class=\"price\">£9.99<\/span>\n",
       " <\/li>,\n",
       " <li class=\"product featured\" data-sku=\"B2\">\n",
       " <a class=\"name\" href=\"\/p\/b2\">Notes<\/a>\n",
       " <span class=\"price promo\">£4.50<\/span>\n",
       " <\/li>,\n",
       " <li class=\"product\" data-sku=\"C3\">\n",
       " <a class=\"name\" href=\"\/p\/c3\">Długopis<\/a>\n",
       " <span class=\"price\">£2.49<\/span>\n",
       " <\/li>]"
      ]
     },
     "metadata":{},
     "output_type":"display_data"
    }
   ],
   "metadata":{
    "datalore":{
     "node_id":"BPjbgUTpgmo8KXRTgXgiSp",
     "type":"CODE",
     "hide_input_from_viewers":true,
     "hide_output_from_viewers":true
    }
   }
  },
  {
   "cell_type":"code",
   "source":[
    "#API bs4\n",
    "soup.find_all(\"li\",class_=\"product\")"
   ],
   "execution_count":17,
   "outputs":[
    {
     "data":{
      "text\/plain":[
       "[<li class=\"product\" data-sku=\"A1\">\n",
       " <a class=\"name\" href=\"\/p\/a1\">Kubek<\/a>\n",
       " <span class=\"price\">£9.99<\/span>\n",
       " <\/li>,\n",
       " <li class=\"product featured\" data-sku=\"B2\">\n",
       " <a class=\"name\" href=\"\/p\/b2\">Notes<\/a>\n",
       " <span class=\"price promo\">£4.50<\/span>\n",
       " <\/li>,\n",
       " <li class=\"product\" data-sku=\"C3\">\n",
       " <a class=\"name\" href=\"\/p\/c3\">Długopis<\/a>\n",
       " <span class=\"price\">£2.49<\/span>\n",
       " <\/li>]"
      ]
     },
     "metadata":{},
     "output_type":"display_data"
    }
   ],
   "metadata":{
    "datalore":{
     "node_id":"NotCzSEY1QmQRyTzpfMC6t",
     "type":"CODE",
     "hide_input_from_viewers":true,
     "hide_output_from_viewers":true
    }
   }
  },
  {
   "cell_type":"code",
   "source":[
    "#wiele klas na raz\n",
    "soup.select(\"li.product.featured\")"
   ],
   "execution_count":18,
   "outputs":[
    {
     "data":{
      "text\/plain":[
       "[<li class=\"product featured\" data-sku=\"B2\">\n",
       " <a class=\"name\" href=\"\/p\/b2\">Notes<\/a>\n",
       " <span class=\"price promo\">£4.50<\/span>\n",
       " <\/li>]"
      ]
     },
     "metadata":{},
     "output_type":"display_data"
    }
   ],
   "metadata":{
    "datalore":{
     "node_id":"O51Q9IIQtGDcdzV3t3GqJx",
     "type":"CODE",
     "hide_input_from_viewers":true,
     "hide_output_from_viewers":true
    }
   }
  },
  {
   "cell_type":"code",
   "source":[
    "#API bs\n",
    "soup.find_all(\"li\",class_=[\"product\",\"featured\"])"
   ],
   "execution_count":19,
   "outputs":[
    {
     "data":{
      "text\/plain":[
       "[<li class=\"product\" data-sku=\"A1\">\n",
       " <a class=\"name\" href=\"\/p\/a1\">Kubek<\/a>\n",
       " <span class=\"price\">£9.99<\/span>\n",
       " <\/li>,\n",
       " <li class=\"product featured\" data-sku=\"B2\">\n",
       " <a class=\"name\" href=\"\/p\/b2\">Notes<\/a>\n",
       " <span class=\"price promo\">£4.50<\/span>\n",
       " <\/li>,\n",
       " <li class=\"product\" data-sku=\"C3\">\n",
       " <a class=\"name\" href=\"\/p\/c3\">Długopis<\/a>\n",
       " <span class=\"price\">£2.49<\/span>\n",
       " <\/li>,\n",
       " <li class=\"featured\" data-sku=\"D4\">\n",
       " <a class=\"name\" href=\"\/p\/d4\">Przygotowanie oprawy<\/a>\n",
       " <span class=\"price\">£8.99<\/span>\n",
       " <\/li>]"
      ]
     },
     "metadata":{},
     "output_type":"display_data"
    }
   ],
   "metadata":{
    "datalore":{
     "node_id":"tHSPXSQETITtu4EngfiQMq",
     "type":"CODE",
     "hide_input_from_viewers":true,
     "hide_output_from_viewers":true
    }
   }
  }
 ],
 "metadata":{
  "kernelspec":{
   "display_name":"Python",
   "language":"python",
   "name":"python"
  },
  "datalore":{
   "computation_mode":"JUPYTER",
   "package_manager":"pip",
   "base_environment":"default_3_11",
   "packages":[],
   "report_row_ids":[],
   "report_tabs":[],
   "version":4
  }
 },
 "nbformat":4,
 "nbformat_minor":4
}