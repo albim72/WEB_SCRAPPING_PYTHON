{
 "cells":[
  {
   "cell_type":"code",
   "source":[
    "from bs4 import BeautifulSoup\n",
    "\n",
    "html = \"\"\"\n",
    "<div id=\"main\">\n",
    "  <h1>Sklep<\/h1>\n",
    "  <ul class=\"products\">\n",
    "    <li class=\"product\" data-sku=\"A1\">\n",
    "      <a class=\"name\" href=\"\/p\/a1\">Kubek<\/a>\n",
    "      <span class=\"price\">£9.99<\/span>\n",
    "      <ekstra>\n",
    "        <a class=\"opis\">wejdź w opis<\/a>\n",
    "      <\/ekstra>\n",
    "    <\/li>\n",
    "    <li class=\"product featured\" data-sku=\"B2\">\n",
    "      <a class=\"name\" href=\"\/p\/b2\">Notes<\/a>\n",
    "      <span class=\"price promo\">£4.50<\/span>\n",
    "    <\/li>\n",
    "    <li class=\"product\" data-sku=\"C3\">\n",
    "      <a class=\"name\" href=\"\/h2\/p\/c3\">Długopis<\/a>\n",
    "      <span class=\"price\">£2.49<\/span>\n",
    "    <\/li>\n",
    "    <li class=\"featured\" data-sku=\"D4\">\n",
    "      <a class=\"name\" href=\"\/p\/span\/d4\">Przygotowanie oprawy<\/a>\n",
    "      <span class=\"price\">£8.99<\/span>\n",
    "    <\/li>\n",
    "  <\/ul>\n",
    "  <p class=\"footer\">Kontakt: <a href=\"\/contact\">napisz<\/a><\/p>\n",
    "<\/div>\n",
    "\"\"\"\n",
    "soup = BeautifulSoup(html, \"html.parser\")"
   ],
   "execution_count":29,
   "outputs":[],
   "metadata":{
    "datalore":{
     "node_id":"H9WqoMoJm64ZJ5I8pHAVhc",
     "type":"CODE",
     "hide_input_from_viewers":true,
     "hide_output_from_viewers":true
    }
   }
  },
  {
   "cell_type":"code",
   "source":[
    "#mapowanie  DOM\n",
    "soup.select_one(\"#main\").name #mapowanie po id"
   ],
   "execution_count":30,
   "outputs":[
    {
     "data":{
      "text\/plain":[
       "'div'"
      ]
     },
     "metadata":{},
     "output_type":"display_data"
    }
   ],
   "metadata":{
    "datalore":{
     "node_id":"6VYJSFzGauP2rbnncw9XLA",
     "type":"CODE",
     "hide_input_from_viewers":true,
     "hide_output_from_viewers":true
    }
   }
  },
  {
   "cell_type":"code",
   "source":[
    "soup.find(\"h1\").get_text(strip=True) #mapowanie po tagu h1"
   ],
   "execution_count":31,
   "outputs":[
    {
     "data":{
      "text\/plain":[
       "'Sklep'"
      ]
     },
     "metadata":{},
     "output_type":"display_data"
    }
   ],
   "metadata":{
    "datalore":{
     "node_id":"7oApYREqQ0Qrci1dxW0AMT",
     "type":"CODE",
     "hide_input_from_viewers":true,
     "hide_output_from_viewers":true
    }
   }
  },
  {
   "cell_type":"code",
   "source":[
    "#mapowanie po klasie css i po klasie (API bs4)\n",
    "#CSS\n",
    "soup.select(\"li.product\")"
   ],
   "execution_count":32,
   "outputs":[
    {
     "data":{
      "text\/plain":[
       "[<li class=\"product\" data-sku=\"A1\">\n",
       " <a class=\"name\" href=\"\/p\/a1\">Kubek<\/a>\n",
       " <span class=\"price\">£9.99<\/span>\n",
       " <ekstra>\n",
       " <a class=\"opis\">wejdź w opis<\/a>\n",
       " <\/ekstra>\n",
       " <\/li>,\n",
       " <li class=\"product featured\" data-sku=\"B2\">\n",
       " <a class=\"name\" href=\"\/p\/b2\">Notes<\/a>\n",
       " <span class=\"price promo\">£4.50<\/span>\n",
       " <\/li>,\n",
       " <li class=\"product\" data-sku=\"C3\">\n",
       " <a class=\"name\" href=\"\/h2\/p\/c3\">Długopis<\/a>\n",
       " <span class=\"price\">£2.49<\/span>\n",
       " <\/li>]"
      ]
     },
     "metadata":{},
     "output_type":"display_data"
    }
   ],
   "metadata":{
    "datalore":{
     "node_id":"BPjbgUTpgmo8KXRTgXgiSp",
     "type":"CODE",
     "hide_input_from_viewers":true,
     "hide_output_from_viewers":true
    }
   }
  },
  {
   "cell_type":"code",
   "source":[
    "#API bs4\n",
    "soup.find_all(\"li\",class_=\"product\")"
   ],
   "execution_count":33,
   "outputs":[
    {
     "data":{
      "text\/plain":[
       "[<li class=\"product\" data-sku=\"A1\">\n",
       " <a class=\"name\" href=\"\/p\/a1\">Kubek<\/a>\n",
       " <span class=\"price\">£9.99<\/span>\n",
       " <ekstra>\n",
       " <a class=\"opis\">wejdź w opis<\/a>\n",
       " <\/ekstra>\n",
       " <\/li>,\n",
       " <li class=\"product featured\" data-sku=\"B2\">\n",
       " <a class=\"name\" href=\"\/p\/b2\">Notes<\/a>\n",
       " <span class=\"price promo\">£4.50<\/span>\n",
       " <\/li>,\n",
       " <li class=\"product\" data-sku=\"C3\">\n",
       " <a class=\"name\" href=\"\/h2\/p\/c3\">Długopis<\/a>\n",
       " <span class=\"price\">£2.49<\/span>\n",
       " <\/li>]"
      ]
     },
     "metadata":{},
     "output_type":"display_data"
    }
   ],
   "metadata":{
    "datalore":{
     "node_id":"NotCzSEY1QmQRyTzpfMC6t",
     "type":"CODE",
     "hide_input_from_viewers":true,
     "hide_output_from_viewers":true
    }
   }
  },
  {
   "cell_type":"code",
   "source":[
    "#wiele klas na raz\n",
    "soup.select(\"li.product.featured\")"
   ],
   "execution_count":34,
   "outputs":[
    {
     "data":{
      "text\/plain":[
       "[<li class=\"product featured\" data-sku=\"B2\">\n",
       " <a class=\"name\" href=\"\/p\/b2\">Notes<\/a>\n",
       " <span class=\"price promo\">£4.50<\/span>\n",
       " <\/li>]"
      ]
     },
     "metadata":{},
     "output_type":"display_data"
    }
   ],
   "metadata":{
    "datalore":{
     "node_id":"O51Q9IIQtGDcdzV3t3GqJx",
     "type":"CODE",
     "hide_input_from_viewers":true,
     "hide_output_from_viewers":true
    }
   }
  },
  {
   "cell_type":"code",
   "source":[
    "#API bs\n",
    "soup.find_all(\"li\",class_=[\"product\",\"featured\"])"
   ],
   "execution_count":35,
   "outputs":[
    {
     "data":{
      "text\/plain":[
       "[<li class=\"product\" data-sku=\"A1\">\n",
       " <a class=\"name\" href=\"\/p\/a1\">Kubek<\/a>\n",
       " <span class=\"price\">£9.99<\/span>\n",
       " <ekstra>\n",
       " <a class=\"opis\">wejdź w opis<\/a>\n",
       " <\/ekstra>\n",
       " <\/li>,\n",
       " <li class=\"product featured\" data-sku=\"B2\">\n",
       " <a class=\"name\" href=\"\/p\/b2\">Notes<\/a>\n",
       " <span class=\"price promo\">£4.50<\/span>\n",
       " <\/li>,\n",
       " <li class=\"product\" data-sku=\"C3\">\n",
       " <a class=\"name\" href=\"\/h2\/p\/c3\">Długopis<\/a>\n",
       " <span class=\"price\">£2.49<\/span>\n",
       " <\/li>,\n",
       " <li class=\"featured\" data-sku=\"D4\">\n",
       " <a class=\"name\" href=\"\/p\/span\/d4\">Przygotowanie oprawy<\/a>\n",
       " <span class=\"price\">£8.99<\/span>\n",
       " <\/li>]"
      ]
     },
     "metadata":{},
     "output_type":"display_data"
    }
   ],
   "metadata":{
    "datalore":{
     "node_id":"tHSPXSQETITtu4EngfiQMq",
     "type":"CODE",
     "hide_input_from_viewers":true,
     "hide_output_from_viewers":true
    }
   }
  },
  {
   "cell_type":"code",
   "source":[
    "#ścieżki na drzewie\n",
    "#dowolmna głębokośc\n",
    "soup.select(\"ul.products a.name, ul.products a.opis\")"
   ],
   "execution_count":36,
   "outputs":[
    {
     "data":{
      "text\/plain":[
       "[<a class=\"name\" href=\"\/p\/a1\">Kubek<\/a>,\n",
       " <a class=\"opis\">wejdź w opis<\/a>,\n",
       " <a class=\"name\" href=\"\/p\/b2\">Notes<\/a>,\n",
       " <a class=\"name\" href=\"\/h2\/p\/c3\">Długopis<\/a>,\n",
       " <a class=\"name\" href=\"\/p\/span\/d4\">Przygotowanie oprawy<\/a>]"
      ]
     },
     "metadata":{},
     "output_type":"display_data"
    }
   ],
   "metadata":{
    "datalore":{
     "node_id":"6rKPoLelnKLysYQQklueXl",
     "type":"CODE",
     "hide_input_from_viewers":true,
     "hide_output_from_viewers":true
    }
   }
  },
  {
   "cell_type":"code",
   "source":[
    "#bezposrednie dziecko\n",
    "soup.select(\"ul.products > li > a.name\")"
   ],
   "execution_count":37,
   "outputs":[
    {
     "data":{
      "text\/plain":[
       "[<a class=\"name\" href=\"\/p\/a1\">Kubek<\/a>,\n",
       " <a class=\"name\" href=\"\/p\/b2\">Notes<\/a>,\n",
       " <a class=\"name\" href=\"\/h2\/p\/c3\">Długopis<\/a>,\n",
       " <a class=\"name\" href=\"\/p\/span\/d4\">Przygotowanie oprawy<\/a>]"
      ]
     },
     "metadata":{},
     "output_type":"display_data"
    }
   ],
   "metadata":{
    "datalore":{
     "node_id":"MIgBFQrss6m9vsPAhYEedP",
     "type":"CODE",
     "hide_input_from_viewers":true,
     "hide_output_from_viewers":true
    }
   }
  },
  {
   "cell_type":"code",
   "source":[
    "soup.select(\"ul.products > li > ekstra > a.opis\")"
   ],
   "execution_count":38,
   "outputs":[
    {
     "data":{
      "text\/plain":[
       "[<a class=\"opis\">wejdź w opis<\/a>]"
      ]
     },
     "metadata":{},
     "output_type":"display_data"
    }
   ],
   "metadata":{
    "datalore":{
     "node_id":"Var9LkBvNWtexOvkCZ5Qxn",
     "type":"CODE",
     "hide_input_from_viewers":true,
     "hide_output_from_viewers":true
    }
   }
  },
  {
   "cell_type":"code",
   "source":[
    "#atrybuty i ich wzorce\n",
    "#dokładna wartośc\n",
    "soup.select('li[data-sku=\"B2\"]')"
   ],
   "execution_count":39,
   "outputs":[
    {
     "data":{
      "text\/plain":[
       "[<li class=\"product featured\" data-sku=\"B2\">\n",
       " <a class=\"name\" href=\"\/p\/b2\">Notes<\/a>\n",
       " <span class=\"price promo\">£4.50<\/span>\n",
       " <\/li>]"
      ]
     },
     "metadata":{},
     "output_type":"display_data"
    }
   ],
   "metadata":{
    "datalore":{
     "node_id":"vS0ANqFEskAfEtmGRAwSQm",
     "type":"CODE",
     "hide_input_from_viewers":true,
     "hide_output_from_viewers":true
    }
   }
  },
  {
   "cell_type":"code",
   "source":[
    "#a[href zaczyna się na \/p\/]\n",
    "soup.select('a[href^=\"\/p\/\"]')"
   ],
   "execution_count":40,
   "outputs":[
    {
     "data":{
      "text\/plain":[
       "[<a class=\"name\" href=\"\/p\/a1\">Kubek<\/a>,\n",
       " <a class=\"name\" href=\"\/p\/b2\">Notes<\/a>,\n",
       " <a class=\"name\" href=\"\/p\/span\/d4\">Przygotowanie oprawy<\/a>]"
      ]
     },
     "metadata":{},
     "output_type":"display_data"
    }
   ],
   "metadata":{
    "datalore":{
     "node_id":"2IlNiJWG5mFFu1onfVonO9",
     "type":"CODE",
     "hide_input_from_viewers":true,
     "hide_output_from_viewers":true
    }
   }
  },
  {
   "cell_type":"code",
   "source":[
    "#a[href kończy się na b2]\n",
    "soup.select('a[href$=\"b2\"]')"
   ],
   "execution_count":41,
   "outputs":[
    {
     "data":{
      "text\/plain":[
       "[<a class=\"name\" href=\"\/p\/b2\">Notes<\/a>]"
      ]
     },
     "metadata":{},
     "output_type":"display_data"
    }
   ],
   "metadata":{
    "datalore":{
     "node_id":"D4ySso6JUgVcim1mPu2Bkw",
     "type":"CODE",
     "hide_input_from_viewers":true,
     "hide_output_from_viewers":true
    }
   }
  },
  {
   "cell_type":"code",
   "source":[
    "#a[href zaiwera \/p\/]\n",
    "soup.select('a[href*=\"\/p\/\"]')"
   ],
   "execution_count":42,
   "outputs":[
    {
     "data":{
      "text\/plain":[
       "[<a class=\"name\" href=\"\/p\/a1\">Kubek<\/a>,\n",
       " <a class=\"name\" href=\"\/p\/b2\">Notes<\/a>,\n",
       " <a class=\"name\" href=\"\/h2\/p\/c3\">Długopis<\/a>,\n",
       " <a class=\"name\" href=\"\/p\/span\/d4\">Przygotowanie oprawy<\/a>]"
      ]
     },
     "metadata":{},
     "output_type":"display_data"
    }
   ],
   "metadata":{
    "datalore":{
     "node_id":"fTolrJjpmO4lsDKLZgh98u",
     "type":"CODE",
     "hide_input_from_viewers":true,
     "hide_output_from_viewers":true
    }
   }
  }
 ],
 "metadata":{
  "kernelspec":{
   "display_name":"Python",
   "language":"python",
   "name":"python"
  },
  "datalore":{
   "computation_mode":"JUPYTER",
   "package_manager":"pip",
   "base_environment":"default_3_11",
   "packages":[],
   "report_row_ids":[],
   "report_tabs":[],
   "version":4
  }
 },
 "nbformat":4,
 "nbformat_minor":4
}