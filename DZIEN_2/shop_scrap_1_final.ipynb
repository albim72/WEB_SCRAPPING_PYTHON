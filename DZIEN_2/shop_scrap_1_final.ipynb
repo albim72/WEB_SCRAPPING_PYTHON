{
 "cells":[
  {
   "cell_type":"code",
   "source":[
    "from bs4 import BeautifulSoup\n",
    "\n",
    "html = \"\"\"\n",
    "<div id=\"main\">\n",
    "  <h1>Sklep<\/h1>\n",
    "  <ul class=\"products\">\n",
    "    <li class=\"product\" data-sku=\"A1\">\n",
    "      <a class=\"name\" href=\"\/p\/a1\">Kubek<\/a>\n",
    "      <span class=\"price\">£9.99<\/span>\n",
    "      <ekstra>\n",
    "        <a class=\"opis\">wejdź w opis<\/a>\n",
    "      <\/ekstra>\n",
    "    <\/li>\n",
    "    <li class=\"product featured\" data-sku=\"B2\">\n",
    "      <a class=\"name\" href=\"\/p\/b2\">Notes<\/a>\n",
    "      <span class=\"price promo\">£4.50<\/span>\n",
    "    <\/li>\n",
    "    <li class=\"product\" data-sku=\"C3\">\n",
    "      <a class=\"name\" href=\"\/h2\/p\/c3\">Długopis<\/a>\n",
    "      <span class=\"price\">£2.49<\/span>\n",
    "    <\/li>\n",
    "    <li class=\"featured\" data-sku=\"D4\">\n",
    "      <a class=\"name\" href=\"\/p\/span\/d4\">Przygotowanie oprawy<\/a>\n",
    "      <span class=\"price\">£8.99<\/span>\n",
    "    <\/li>\n",
    "  <\/ul>\n",
    "  <p class=\"footer\">Kontakt: <a href=\"\/contact\">napisz<\/a><\/p>\n",
    "<\/div>\n",
    "\"\"\"\n",
    "soup = BeautifulSoup(html, \"html.parser\")"
   ],
   "execution_count":2,
   "outputs":[],
   "metadata":{
    "datalore":{
     "node_id":"H9WqoMoJm64ZJ5I8pHAVhc",
     "type":"CODE",
     "hide_input_from_viewers":true,
     "hide_output_from_viewers":true
    }
   }
  },
  {
   "cell_type":"code",
   "source":[
    "#mapowanie  DOM\n",
    "soup.select_one(\"#main\").name #mapowanie po id"
   ],
   "execution_count":3,
   "outputs":[
    {
     "data":{
      "text\/plain":[
       "'div'"
      ]
     },
     "metadata":{},
     "output_type":"display_data"
    }
   ],
   "metadata":{
    "datalore":{
     "node_id":"6VYJSFzGauP2rbnncw9XLA",
     "type":"CODE",
     "hide_input_from_viewers":true,
     "hide_output_from_viewers":true
    }
   }
  },
  {
   "cell_type":"code",
   "source":[
    "soup.find(\"h1\").get_text(strip=True) #mapowanie po tagu h1"
   ],
   "execution_count":4,
   "outputs":[
    {
     "data":{
      "text\/plain":[
       "'Sklep'"
      ]
     },
     "metadata":{},
     "output_type":"display_data"
    }
   ],
   "metadata":{
    "datalore":{
     "node_id":"7oApYREqQ0Qrci1dxW0AMT",
     "type":"CODE",
     "hide_input_from_viewers":true,
     "hide_output_from_viewers":true
    }
   }
  },
  {
   "cell_type":"code",
   "source":[
    "#mapowanie po klasie css i po klasie (API bs4)\n",
    "#CSS\n",
    "soup.select(\"li.product\")"
   ],
   "execution_count":5,
   "outputs":[
    {
     "data":{
      "text\/plain":[
       "[<li class=\"product\" data-sku=\"A1\">\n",
       " <a class=\"name\" href=\"\/p\/a1\">Kubek<\/a>\n",
       " <span class=\"price\">£9.99<\/span>\n",
       " <ekstra>\n",
       " <a class=\"opis\">wejdź w opis<\/a>\n",
       " <\/ekstra>\n",
       " <\/li>,\n",
       " <li class=\"product featured\" data-sku=\"B2\">\n",
       " <a class=\"name\" href=\"\/p\/b2\">Notes<\/a>\n",
       " <span class=\"price promo\">£4.50<\/span>\n",
       " <\/li>,\n",
       " <li class=\"product\" data-sku=\"C3\">\n",
       " <a class=\"name\" href=\"\/h2\/p\/c3\">Długopis<\/a>\n",
       " <span class=\"price\">£2.49<\/span>\n",
       " <\/li>]"
      ]
     },
     "metadata":{},
     "output_type":"display_data"
    }
   ],
   "metadata":{
    "datalore":{
     "node_id":"BPjbgUTpgmo8KXRTgXgiSp",
     "type":"CODE",
     "hide_input_from_viewers":true,
     "hide_output_from_viewers":true
    }
   }
  },
  {
   "cell_type":"code",
   "source":[
    "#API bs4\n",
    "soup.find_all(\"li\",class_=\"product\")"
   ],
   "execution_count":6,
   "outputs":[
    {
     "data":{
      "text\/plain":[
       "[<li class=\"product\" data-sku=\"A1\">\n",
       " <a class=\"name\" href=\"\/p\/a1\">Kubek<\/a>\n",
       " <span class=\"price\">£9.99<\/span>\n",
       " <ekstra>\n",
       " <a class=\"opis\">wejdź w opis<\/a>\n",
       " <\/ekstra>\n",
       " <\/li>,\n",
       " <li class=\"product featured\" data-sku=\"B2\">\n",
       " <a class=\"name\" href=\"\/p\/b2\">Notes<\/a>\n",
       " <span class=\"price promo\">£4.50<\/span>\n",
       " <\/li>,\n",
       " <li class=\"product\" data-sku=\"C3\">\n",
       " <a class=\"name\" href=\"\/h2\/p\/c3\">Długopis<\/a>\n",
       " <span class=\"price\">£2.49<\/span>\n",
       " <\/li>]"
      ]
     },
     "metadata":{},
     "output_type":"display_data"
    }
   ],
   "metadata":{
    "datalore":{
     "node_id":"NotCzSEY1QmQRyTzpfMC6t",
     "type":"CODE",
     "hide_input_from_viewers":true,
     "hide_output_from_viewers":true
    }
   }
  },
  {
   "cell_type":"code",
   "source":[
    "#wiele klas na raz\n",
    "soup.select(\"li.product.featured\")"
   ],
   "execution_count":7,
   "outputs":[
    {
     "data":{
      "text\/plain":[
       "[<li class=\"product featured\" data-sku=\"B2\">\n",
       " <a class=\"name\" href=\"\/p\/b2\">Notes<\/a>\n",
       " <span class=\"price promo\">£4.50<\/span>\n",
       " <\/li>]"
      ]
     },
     "metadata":{},
     "output_type":"display_data"
    }
   ],
   "metadata":{
    "datalore":{
     "node_id":"O51Q9IIQtGDcdzV3t3GqJx",
     "type":"CODE",
     "hide_input_from_viewers":true,
     "hide_output_from_viewers":true
    }
   }
  },
  {
   "cell_type":"code",
   "source":[
    "#API bs\n",
    "soup.find_all(\"li\",class_=[\"product\",\"featured\"])"
   ],
   "execution_count":8,
   "outputs":[
    {
     "data":{
      "text\/plain":[
       "[<li class=\"product\" data-sku=\"A1\">\n",
       " <a class=\"name\" href=\"\/p\/a1\">Kubek<\/a>\n",
       " <span class=\"price\">£9.99<\/span>\n",
       " <ekstra>\n",
       " <a class=\"opis\">wejdź w opis<\/a>\n",
       " <\/ekstra>\n",
       " <\/li>,\n",
       " <li class=\"product featured\" data-sku=\"B2\">\n",
       " <a class=\"name\" href=\"\/p\/b2\">Notes<\/a>\n",
       " <span class=\"price promo\">£4.50<\/span>\n",
       " <\/li>,\n",
       " <li class=\"product\" data-sku=\"C3\">\n",
       " <a class=\"name\" href=\"\/h2\/p\/c3\">Długopis<\/a>\n",
       " <span class=\"price\">£2.49<\/span>\n",
       " <\/li>,\n",
       " <li class=\"featured\" data-sku=\"D4\">\n",
       " <a class=\"name\" href=\"\/p\/span\/d4\">Przygotowanie oprawy<\/a>\n",
       " <span class=\"price\">£8.99<\/span>\n",
       " <\/li>]"
      ]
     },
     "metadata":{},
     "output_type":"display_data"
    }
   ],
   "metadata":{
    "datalore":{
     "node_id":"tHSPXSQETITtu4EngfiQMq",
     "type":"CODE",
     "hide_input_from_viewers":true,
     "hide_output_from_viewers":true
    }
   }
  },
  {
   "cell_type":"code",
   "source":[
    "#ścieżki na drzewie\n",
    "#dowolmna głębokośc\n",
    "soup.select(\"ul.products a.name, ul.products a.opis\")"
   ],
   "execution_count":9,
   "outputs":[
    {
     "data":{
      "text\/plain":[
       "[<a class=\"name\" href=\"\/p\/a1\">Kubek<\/a>,\n",
       " <a class=\"opis\">wejdź w opis<\/a>,\n",
       " <a class=\"name\" href=\"\/p\/b2\">Notes<\/a>,\n",
       " <a class=\"name\" href=\"\/h2\/p\/c3\">Długopis<\/a>,\n",
       " <a class=\"name\" href=\"\/p\/span\/d4\">Przygotowanie oprawy<\/a>]"
      ]
     },
     "metadata":{},
     "output_type":"display_data"
    }
   ],
   "metadata":{
    "datalore":{
     "node_id":"6rKPoLelnKLysYQQklueXl",
     "type":"CODE",
     "hide_input_from_viewers":true,
     "hide_output_from_viewers":true
    }
   }
  },
  {
   "cell_type":"code",
   "source":[
    "#bezposrednie dziecko\n",
    "soup.select(\"ul.products > li > a.name\")"
   ],
   "execution_count":10,
   "outputs":[
    {
     "data":{
      "text\/plain":[
       "[<a class=\"name\" href=\"\/p\/a1\">Kubek<\/a>,\n",
       " <a class=\"name\" href=\"\/p\/b2\">Notes<\/a>,\n",
       " <a class=\"name\" href=\"\/h2\/p\/c3\">Długopis<\/a>,\n",
       " <a class=\"name\" href=\"\/p\/span\/d4\">Przygotowanie oprawy<\/a>]"
      ]
     },
     "metadata":{},
     "output_type":"display_data"
    }
   ],
   "metadata":{
    "datalore":{
     "node_id":"MIgBFQrss6m9vsPAhYEedP",
     "type":"CODE",
     "hide_input_from_viewers":true,
     "hide_output_from_viewers":true
    }
   }
  },
  {
   "cell_type":"code",
   "source":[
    "soup.select(\"ul.products > li > ekstra > a.opis\")"
   ],
   "execution_count":11,
   "outputs":[
    {
     "data":{
      "text\/plain":[
       "[<a class=\"opis\">wejdź w opis<\/a>]"
      ]
     },
     "metadata":{},
     "output_type":"display_data"
    }
   ],
   "metadata":{
    "datalore":{
     "node_id":"Var9LkBvNWtexOvkCZ5Qxn",
     "type":"CODE",
     "hide_input_from_viewers":true,
     "hide_output_from_viewers":true
    }
   }
  },
  {
   "cell_type":"code",
   "source":[
    "#atrybuty i ich wzorce\n",
    "#dokładna wartośc\n",
    "soup.select('li[data-sku=\"B2\"]')"
   ],
   "execution_count":12,
   "outputs":[
    {
     "data":{
      "text\/plain":[
       "[<li class=\"product featured\" data-sku=\"B2\">\n",
       " <a class=\"name\" href=\"\/p\/b2\">Notes<\/a>\n",
       " <span class=\"price promo\">£4.50<\/span>\n",
       " <\/li>]"
      ]
     },
     "metadata":{},
     "output_type":"display_data"
    }
   ],
   "metadata":{
    "datalore":{
     "node_id":"vS0ANqFEskAfEtmGRAwSQm",
     "type":"CODE",
     "hide_input_from_viewers":true,
     "hide_output_from_viewers":true
    }
   }
  },
  {
   "cell_type":"code",
   "source":[
    "#a[href zaczyna się na \/p\/]\n",
    "soup.select('a[href^=\"\/p\/\"]')"
   ],
   "execution_count":13,
   "outputs":[
    {
     "data":{
      "text\/plain":[
       "[<a class=\"name\" href=\"\/p\/a1\">Kubek<\/a>,\n",
       " <a class=\"name\" href=\"\/p\/b2\">Notes<\/a>,\n",
       " <a class=\"name\" href=\"\/p\/span\/d4\">Przygotowanie oprawy<\/a>]"
      ]
     },
     "metadata":{},
     "output_type":"display_data"
    }
   ],
   "metadata":{
    "datalore":{
     "node_id":"2IlNiJWG5mFFu1onfVonO9",
     "type":"CODE",
     "hide_input_from_viewers":true,
     "hide_output_from_viewers":true
    }
   }
  },
  {
   "cell_type":"code",
   "source":[
    "#a[href kończy się na b2]\n",
    "soup.select('a[href$=\"b2\"]')"
   ],
   "execution_count":14,
   "outputs":[
    {
     "data":{
      "text\/plain":[
       "[<a class=\"name\" href=\"\/p\/b2\">Notes<\/a>]"
      ]
     },
     "metadata":{},
     "output_type":"display_data"
    }
   ],
   "metadata":{
    "datalore":{
     "node_id":"D4ySso6JUgVcim1mPu2Bkw",
     "type":"CODE",
     "hide_input_from_viewers":true,
     "hide_output_from_viewers":true
    }
   }
  },
  {
   "cell_type":"code",
   "source":[
    "#a[href zaiwera \/p\/]\n",
    "soup.select('a[href*=\"\/p\/\"]')"
   ],
   "execution_count":15,
   "outputs":[
    {
     "data":{
      "text\/plain":[
       "[<a class=\"name\" href=\"\/p\/a1\">Kubek<\/a>,\n",
       " <a class=\"name\" href=\"\/p\/b2\">Notes<\/a>,\n",
       " <a class=\"name\" href=\"\/h2\/p\/c3\">Długopis<\/a>,\n",
       " <a class=\"name\" href=\"\/p\/span\/d4\">Przygotowanie oprawy<\/a>]"
      ]
     },
     "metadata":{},
     "output_type":"display_data"
    }
   ],
   "metadata":{
    "datalore":{
     "node_id":"fTolrJjpmO4lsDKLZgh98u",
     "type":"CODE",
     "hide_input_from_viewers":true,
     "hide_output_from_viewers":true
    }
   }
  },
  {
   "cell_type":"code",
   "source":[
    "#nth-of-type (konkretny element na liście)\n",
    "second = soup.select_one(\"ul.products > li:nth-of-type(2) a.name\")\n",
    "second.get_text()"
   ],
   "execution_count":16,
   "outputs":[
    {
     "data":{
      "text\/plain":[
       "'Notes'"
      ]
     },
     "metadata":{},
     "output_type":"display_data"
    }
   ],
   "metadata":{
    "datalore":{
     "node_id":"pXFZa8xCu8o3HSKqfov8JI",
     "type":"CODE",
     "hide_input_from_viewers":true,
     "hide_output_from_viewers":true
    }
   }
  },
  {
   "cell_type":"code",
   "source":[
    "#rodzic\/rodzeństwo\/następny\n",
    "a = soup.select_one('a[href=\"\/p\/b2\"]')\n",
    "a.find_parent(\"li\")[\"data-sku\"]"
   ],
   "execution_count":17,
   "outputs":[
    {
     "data":{
      "text\/plain":[
       "'B2'"
      ]
     },
     "metadata":{},
     "output_type":"display_data"
    }
   ],
   "metadata":{
    "datalore":{
     "node_id":"TY14eEA6i17XRaalyjNURR",
     "type":"CODE",
     "hide_input_from_viewers":true,
     "hide_output_from_viewers":true
    }
   }
  },
  {
   "cell_type":"code",
   "source":[
    "#rodzeńsstwo\n",
    "li = a.find_parent(\"li\")\n",
    "li.find_next_sibling(\"li\").select_one(\"a.name\").get_text()"
   ],
   "execution_count":18,
   "outputs":[
    {
     "data":{
      "text\/plain":[
       "'Długopis'"
      ]
     },
     "metadata":{},
     "output_type":"display_data"
    }
   ],
   "metadata":{
    "datalore":{
     "node_id":"02YC6dwOUQrURUHGRm1Gt0",
     "type":"CODE",
     "hide_input_from_viewers":true,
     "hide_output_from_viewers":true
    }
   }
  },
  {
   "cell_type":"code",
   "source":[
    "#teskt zawarty w elemencie\n",
    "soup.select('span.price:-soup-contains(\"£\")')"
   ],
   "execution_count":19,
   "outputs":[
    {
     "data":{
      "text\/plain":[
       "[<span class=\"price\">£9.99<\/span>,\n",
       " <span class=\"price promo\">£4.50<\/span>,\n",
       " <span class=\"price\">£2.49<\/span>,\n",
       " <span class=\"price\">£8.99<\/span>]"
      ]
     },
     "metadata":{},
     "output_type":"display_data"
    }
   ],
   "metadata":{
    "datalore":{
     "node_id":"gbKngloM3loSMBGQCqqKzY",
     "type":"CODE",
     "hide_input_from_viewers":true,
     "hide_output_from_viewers":true
    }
   }
  },
  {
   "cell_type":"code",
   "source":[
    "#ekstrakcja aatrybutów i tekstu\n",
    "card = soup.select_one('li[data-sku=\"A1\"]')\n",
    "name = card.select_one(\"a.name\").get_text(strip=True)\n",
    "price = card.select_one(\"span.price\").get_text(strip=True)\n",
    "href = card.select_one(\"a.name\")[\"href\"]"
   ],
   "execution_count":20,
   "outputs":[],
   "metadata":{
    "datalore":{
     "node_id":"XjUb5p0MFff1WLcQ2bwFRp",
     "type":"CODE",
     "hide_input_from_viewers":true,
     "hide_output_from_viewers":true
    }
   }
  },
  {
   "cell_type":"code",
   "source":[
    "la = (4,)\n",
    "print(la)\n",
    "print(type(la))"
   ],
   "execution_count":25,
   "outputs":[
    {
     "name":"stdout",
     "text":[
      "(4,)\n",
      "<class 'tuple'>\n"
     ],
     "output_type":"stream"
    }
   ],
   "metadata":{
    "datalore":{
     "node_id":"JAvkJ4Ea5v74ZiHAJGY5Db",
     "type":"CODE",
     "hide_input_from_viewers":true,
     "hide_output_from_viewers":true
    }
   }
  },
  {
   "cell_type":"code",
   "source":[
    "from urllib.parse import urljoin\n",
    "\n",
    "BASE = html\n",
    "rows = []\n",
    "for li in soup.select(\"ul.products>li.product\"):\n",
    "    row = {\n",
    "        \"sku\":li.get(\"data-sku\"),\n",
    "        \"name\":li.select_one(\"a.name\").get_text(strip=True),\n",
    "        \"price_text\":li.select_one(\"span.price\").get_text(strip=True),\n",
    "        \"featured\":\"featured\" in li.get(\"class\",[]),\n",
    "        \"url\":urljoin(BASE,li.select_one(\"a.name\")[\"href\"]),\n",
    "    }\n",
    "    rows.append(row)\n",
    "\n",
    "\n",
    "#kontrola zgodnosci z DOM\n",
    "assert len(rows) == 3\n",
    "assert rows[1][\"sku\"] == \"B2\" and rows[1][\"featured\"] is True\n",
    "assert rows[2][\"name\"] == \"Długopis\" and rows[0][\"url\"].endswith(\"\/p\/a1\")\n",
    "\n",
    "for r in rows:\n",
    "    print(r)"
   ],
   "execution_count":28,
   "outputs":[
    {
     "name":"stdout",
     "text":[
      "{'sku': 'A1', 'name': 'Kubek', 'price_text': '£9.99', 'featured': False, 'url': '\/p\/a1'}\n",
      "{'sku': 'B2', 'name': 'Notes', 'price_text': '£4.50', 'featured': True, 'url': '\/p\/b2'}\n",
      "{'sku': 'C3', 'name': 'Długopis', 'price_text': '£2.49', 'featured': False, 'url': '\/h2\/p\/c3'}\n"
     ],
     "output_type":"stream"
    }
   ],
   "metadata":{
    "datalore":{
     "node_id":"s8J98o0KCMyNKHRiWaDr1H",
     "type":"CODE",
     "hide_input_from_viewers":true,
     "hide_output_from_viewers":true
    }
   }
  }
 ],
 "metadata":{
  "kernelspec":{
   "display_name":"Python",
   "language":"python",
   "name":"python"
  },
  "datalore":{
   "computation_mode":"JUPYTER",
   "package_manager":"pip",
   "base_environment":"default_3_11",
   "packages":[],
   "report_row_ids":[],
   "report_tabs":[],
   "version":4
  }
 },
 "nbformat":4,
 "nbformat_minor":4
}